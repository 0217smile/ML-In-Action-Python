{
 "cells": [
  {
   "cell_type": "code",
   "execution_count": 1,
   "metadata": {
    "collapsed": true
   },
   "outputs": [],
   "source": [
    "# -*- coding:utf-8 -*-\n",
    "import numpy as np\n",
    "from sklearn.datasets import make_blobs\n",
    "X, y = make_blobs(n_samples=500,\n",
    "                  n_features=6,\n",
    "                  centers=5,\n",
    "                  cluster_std=[0.4, 0.3, 0.4, 0.3, 0.4],\n",
    "                  random_state=11)"
   ]
  },
  {
   "cell_type": "markdown",
   "metadata": {},
   "source": [
    "### 接着我们看看默认的谱聚类的效果："
   ]
  },
  {
   "cell_type": "code",
   "execution_count": 3,
   "metadata": {},
   "outputs": [
    {
     "name": "stdout",
     "output_type": "stream",
     "text": [
      "Calinski-Harabasz Score 14908.9325026\n"
     ]
    }
   ],
   "source": [
    "from sklearn.cluster import SpectralClustering\n",
    "y_pred = SpectralClustering().fit_predict(X)\n",
    "from sklearn import metrics\n",
    "print \"Calinski-Harabasz Score\", metrics.calinski_harabaz_score(X, y_pred)"
   ]
  },
  {
   "cell_type": "markdown",
   "metadata": {},
   "source": [
    "### 由于我们使用的是高斯核，那么我们一般需要对n_clusters和gamma进行调参。选择合适的参数值。代码如下："
   ]
  },
  {
   "cell_type": "code",
   "execution_count": 4,
   "metadata": {},
   "outputs": [
    {
     "name": "stdout",
     "output_type": "stream",
     "text": [
      "Calinski-Harabasz Score with gamma= 0.01 n_clusters= 3 score: 1979.77096092\n",
      "Calinski-Harabasz Score with gamma= 0.01 n_clusters= 4 score: 3154.01841219\n",
      "Calinski-Harabasz Score with gamma= 0.01 n_clusters= 5 score: 23410.63895\n",
      "Calinski-Harabasz Score with gamma= 0.01 n_clusters= 6 score: 19296.8617974\n",
      "Calinski-Harabasz Score with gamma= 0.1 n_clusters= 3 score: 1979.77096092\n",
      "Calinski-Harabasz Score with gamma= 0.1 n_clusters= 4 score: 3154.01841219\n",
      "Calinski-Harabasz Score with gamma= 0.1 n_clusters= 5 score: 23410.63895\n",
      "Calinski-Harabasz Score with gamma= 0.1 n_clusters= 6 score: 19427.9618944\n",
      "Calinski-Harabasz Score with gamma= 1 n_clusters= 3 score: 980.863594044\n",
      "Calinski-Harabasz Score with gamma= 1 n_clusters= 4 score: 1227.88206114\n",
      "Calinski-Harabasz Score with gamma= 1 n_clusters= 5 score: 23410.63895\n",
      "Calinski-Harabasz Score with gamma= 1 n_clusters= 6 score: 1250.76566111\n"
     ]
    },
    {
     "name": "stderr",
     "output_type": "stream",
     "text": [
      "D:\\Root\\0-soft\\Anaconda3\\envs\\py27\\lib\\site-packages\\sklearn\\manifold\\spectral_embedding_.py:229: UserWarning: Graph is not fully connected, spectral embedding may not work as expected.\n",
      "  warnings.warn(\"Graph is not fully connected, spectral embedding\"\n"
     ]
    },
    {
     "name": "stdout",
     "output_type": "stream",
     "text": [
      "Calinski-Harabasz Score with gamma= 10 n_clusters= 3 score: 34.4675659539\n",
      "Calinski-Harabasz Score with gamma= 10 n_clusters= 4 score: 37.621130103\n",
      "Calinski-Harabasz Score with gamma= 10 n_clusters= 5 score: 30.5582744784\n",
      "Calinski-Harabasz Score with gamma= 10 n_clusters= 6 score: 40.5064012421\n"
     ]
    }
   ],
   "source": [
    "for index, gamma in enumerate([0.01, 0.1, 1, 10]):\n",
    "    for index, k in enumerate([3, 4, 5, 6]):\n",
    "        y_pred = SpectralClustering(n_clusters=k, gamma=gamma).fit_predict(X)\n",
    "        print \"Calinski-Harabasz Score with gamma=\", gamma, \"n_clusters=\", k,\"score:\", metrics.calinski_harabaz_score(X, y_pred) "
   ]
  },
  {
   "cell_type": "markdown",
   "metadata": {},
   "source": [
    "### 可见最好的n_clusters是5，而最好的高斯核参数是1或者0.1.\n",
    "    我们可以看看不输入可选的n_clusters的时候，仅仅用最优的gamma为0.1时候的聚类效果，代码如下："
   ]
  },
  {
   "cell_type": "code",
   "execution_count": 5,
   "metadata": {},
   "outputs": [
    {
     "name": "stdout",
     "output_type": "stream",
     "text": [
      "Calinski-Harabasz Score 14950.4939717\n"
     ]
    }
   ],
   "source": [
    "y_pred = SpectralClustering(gamma=0.1).fit_predict(X)\n",
    "print \"Calinski-Harabasz Score\", metrics.calinski_harabaz_score(X, y_pred) "
   ]
  },
  {
   "cell_type": "markdown",
   "metadata": {},
   "source": [
    "### 可见n_clusters一般还是调参选择比较好。"
   ]
  },
  {
   "cell_type": "code",
   "execution_count": null,
   "metadata": {
    "collapsed": true
   },
   "outputs": [],
   "source": []
  }
 ],
 "metadata": {
  "kernelspec": {
   "display_name": "Python 2",
   "language": "python",
   "name": "python2"
  },
  "language_info": {
   "codemirror_mode": {
    "name": "ipython",
    "version": 2
   },
   "file_extension": ".py",
   "mimetype": "text/x-python",
   "name": "python",
   "nbconvert_exporter": "python",
   "pygments_lexer": "ipython2",
   "version": "2.7.13"
  }
 },
 "nbformat": 4,
 "nbformat_minor": 2
}
