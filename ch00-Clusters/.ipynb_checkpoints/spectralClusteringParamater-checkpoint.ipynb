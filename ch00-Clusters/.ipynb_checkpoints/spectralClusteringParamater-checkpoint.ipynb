{
 "cells": [
  {
   "cell_type": "code",
   "execution_count": 1,
   "metadata": {
    "collapsed": true
   },
   "outputs": [],
   "source": [
    "# -*- coding:utf-8 -*-\n",
    "import numpy as np\n",
    "from sklearn.datasets import make_blobs\n",
    "X, y = make_blobs(n_samples=500,\n",
    "                  n_features=6,\n",
    "                  centers=5,\n",
    "                  cluster_std=[0.4, 0.3, 0.4, 0.3, 0.4],\n",
    "                  random_state=11)"
   ]
  },
  {
   "cell_type": "markdown",
   "metadata": {},
   "source": [
    "### 接着我们看看默认的谱聚类的效果："
   ]
  },
  {
   "cell_type": "code",
   "execution_count": 3,
   "metadata": {},
   "outputs": [
    {
     "name": "stdout",
     "output_type": "stream",
     "text": [
      "Calinski-Harabasz Score 14908.9325026\n"
     ]
    }
   ],
   "source": [
    "from sklearn.cluster import SpectralClustering\n",
    "y_pred = SpectralClustering().fit_predict(X)\n",
    "from sklearn import metrics\n",
    "print \"Calinski-Harabasz Score\", metrics.calinski_harabaz_score(X, y_pred)"
   ]
  },
  {
   "cell_type": "markdown",
   "metadata": {},
   "source": [
    "### 由于我们使用的是高斯核，那么我们一般需要对n_clusters和gamma进行调参。选择合适的参数值。代码如下："
   ]
  },
  {
   "cell_type": "code",
   "execution_count": null,
   "metadata": {
    "collapsed": true
   },
   "outputs": [],
   "source": [
    "for index, gamma in enumerate([0.01, 0.1, 1, 10]):\n",
    "    for index, k in enumerate([3, 4, 5, 6]):\n",
    "        y_pred = "
   ]
  }
 ],
 "metadata": {
  "kernelspec": {
   "display_name": "Python 2",
   "language": "python",
   "name": "python2"
  },
  "language_info": {
   "codemirror_mode": {
    "name": "ipython",
    "version": 2
   },
   "file_extension": ".py",
   "mimetype": "text/x-python",
   "name": "python",
   "nbconvert_exporter": "python",
   "pygments_lexer": "ipython2",
   "version": "2.7.13"
  }
 },
 "nbformat": 4,
 "nbformat_minor": 2
}
