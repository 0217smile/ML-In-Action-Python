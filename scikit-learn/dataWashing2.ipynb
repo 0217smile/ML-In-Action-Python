{
 "cells": [
  {
   "cell_type": "code",
   "execution_count": 1,
   "metadata": {
    "collapsed": true
   },
   "outputs": [],
   "source": [
    "# -*- coding:utf-8 -*-"
   ]
  },
  {
   "cell_type": "markdown",
   "metadata": {},
   "source": [
    "    一）标准化(Standardizing)\n",
    "        1.1 scale----零均值单位方差\n",
    "        1.2 StandardScaler\n",
    "    二）归一化(Rescaling)\n",
    "        2.1 MinMaxScaler(最小最大值标准化)\n",
    "        2.2 MaxAbsScaler（绝对值最大标准化）\n",
    "        2.3 对稀疏数据进行标准化\n",
    "        2.4 对离群点进行标准化\n",
    "    三）正则化(Normalizing)\n",
    "        3.1  L1、L2正则化"
   ]
  },
  {
   "cell_type": "markdown",
   "metadata": {},
   "source": [
    "## 一)标准化\n",
    "### 1.1 scale-----零均值单位方差"
   ]
  },
  {
   "cell_type": "code",
   "execution_count": 3,
   "metadata": {
    "collapsed": true
   },
   "outputs": [],
   "source": [
    "from sklearn import preprocessing\n",
    "import numpy as np\n",
    "# raw_data\n",
    "X = np.array([[1., -1., 2.], [2., 0., 0.], [0., 1., -1.]])\n",
    "X_scaled = preprocessing.scale(X)"
   ]
  },
  {
   "cell_type": "code",
   "execution_count": 4,
   "metadata": {},
   "outputs": [
    {
     "data": {
      "text/plain": [
       "array([[ 0.        , -1.22474487,  1.33630621],\n",
       "       [ 1.22474487,  0.        , -0.26726124],\n",
       "       [-1.22474487,  1.22474487, -1.06904497]])"
      ]
     },
     "execution_count": 4,
     "metadata": {},
     "output_type": "execute_result"
    }
   ],
   "source": [
    "# output\n",
    "X_scaled"
   ]
  },
  {
   "cell_type": "code",
   "execution_count": 5,
   "metadata": {},
   "outputs": [
    {
     "data": {
      "text/plain": [
       "array([ 0.,  0.,  0.])"
      ]
     },
     "execution_count": 5,
     "metadata": {},
     "output_type": "execute_result"
    }
   ],
   "source": [
    "X_scaled.mean(axis=0)"
   ]
  },
  {
   "cell_type": "code",
   "execution_count": 6,
   "metadata": {},
   "outputs": [
    {
     "data": {
      "text/plain": [
       "array([ 1.,  1.,  1.])"
      ]
     },
     "execution_count": 6,
     "metadata": {},
     "output_type": "execute_result"
    }
   ],
   "source": [
    "X_scaled.std(axis=0)"
   ]
  },
  {
   "cell_type": "markdown",
   "metadata": {},
   "source": [
    "### 1.2 StandardScaler----  计算训练集的平均值和标准差，以便测试数据集使用相同的变换"
   ]
  },
  {
   "cell_type": "code",
   "execution_count": 8,
   "metadata": {},
   "outputs": [
    {
     "data": {
      "text/plain": [
       "StandardScaler(copy=True, with_mean=True, with_std=True)"
      ]
     },
     "execution_count": 8,
     "metadata": {},
     "output_type": "execute_result"
    }
   ],
   "source": [
    "scaler = preprocessing.StandardScaler().fit(X)\n",
    "scaler"
   ]
  },
  {
   "cell_type": "code",
   "execution_count": 10,
   "metadata": {},
   "outputs": [
    {
     "data": {
      "text/plain": [
       "array([[ 1., -1.,  2.],\n",
       "       [ 2.,  0.,  0.],\n",
       "       [ 0.,  1., -1.]])"
      ]
     },
     "execution_count": 10,
     "metadata": {},
     "output_type": "execute_result"
    }
   ],
   "source": [
    "X"
   ]
  },
  {
   "cell_type": "code",
   "execution_count": 9,
   "metadata": {},
   "outputs": [
    {
     "data": {
      "text/plain": [
       "array([ 1.        ,  0.        ,  0.33333333])"
      ]
     },
     "execution_count": 9,
     "metadata": {},
     "output_type": "execute_result"
    }
   ],
   "source": [
    "scaler.mean_"
   ]
  },
  {
   "cell_type": "code",
   "execution_count": 11,
   "metadata": {},
   "outputs": [
    {
     "name": "stderr",
     "output_type": "stream",
     "text": [
      "D:\\Root\\0-soft\\Anaconda3\\envs\\py27\\lib\\site-packages\\sklearn\\utils\\deprecation.py:70: DeprecationWarning: Function std_ is deprecated; Attribute ``std_`` will be removed in 0.19. Use ``scale_`` instead\n",
      "  warnings.warn(msg, category=DeprecationWarning)\n"
     ]
    },
    {
     "data": {
      "text/plain": [
       "array([ 0.81649658,  0.81649658,  1.24721913])"
      ]
     },
     "execution_count": 11,
     "metadata": {},
     "output_type": "execute_result"
    }
   ],
   "source": [
    "scaler.std_"
   ]
  },
  {
   "cell_type": "code",
   "execution_count": 12,
   "metadata": {
    "collapsed": true
   },
   "outputs": [],
   "source": [
    "X_scaled = scaler.transform(X)"
   ]
  },
  {
   "cell_type": "code",
   "execution_count": 13,
   "metadata": {},
   "outputs": [
    {
     "data": {
      "text/plain": [
       "array([[ 0.        , -1.22474487,  1.33630621],\n",
       "       [ 1.22474487,  0.        , -0.26726124],\n",
       "       [-1.22474487,  1.22474487, -1.06904497]])"
      ]
     },
     "execution_count": 13,
     "metadata": {},
     "output_type": "execute_result"
    }
   ],
   "source": [
    "X_scaled"
   ]
  },
  {
   "cell_type": "markdown",
   "metadata": {},
   "source": [
    "#可以直接使用训练集对测试集数据进行转换\n",
    "scaler.transform([-1., 1., 0.])"
   ]
  },
  {
   "cell_type": "markdown",
   "metadata": {},
   "source": [
    "## 二) 归一化----将数据特征缩放至某一范围(scaling features to a range)"
   ]
  },
  {
   "cell_type": "markdown",
   "metadata": {},
   "source": [
    "### 另外一种标准化方法是将数据缩放至给定的最小值与最大值之间，通常是０与１之间，可用MinMaxScaler实现。或者将最大的绝对值缩放至单位大小，可用MaxAbsScaler实现。\n",
    "\n",
    "### 使用这种标准化方法的原因是，有时数据集的标准差非常非常小，有时数据中有很多很多零（稀疏数据）需要保存住０元素。"
   ]
  },
  {
   "cell_type": "markdown",
   "metadata": {},
   "source": [
    "### 2.1 MinMaxScaler(最小最大标准化)"
   ]
  },
  {
   "cell_type": "markdown",
   "metadata": {},
   "source": [
    "#### 公式：X_std = (X - X.min(axis=0)) / (X.max(axis=0) - X.min(axis=0)) ; \n",
    "\n",
    "#### X_scaler = X_std/ (max - min) + min"
   ]
  },
  {
   "cell_type": "code",
   "execution_count": 26,
   "metadata": {},
   "outputs": [
    {
     "data": {
      "text/plain": [
       "array([[ 0.5       ,  0.        ,  1.        ],\n",
       "       [ 1.        ,  0.5       ,  0.33333333],\n",
       "       [ 0.        ,  1.        ,  0.        ]])"
      ]
     },
     "execution_count": 26,
     "metadata": {},
     "output_type": "execute_result"
    }
   ],
   "source": [
    "# 例子：将数据缩放至[0， 1]之间\n",
    "X_train = np.array([[1., -1., 2.], [2., 0., 0.], [0., 1., -1.]])\n",
    "min_max_scaler = preprocessing.MinMaxScaler()\n",
    "\n",
    "X_train_minmax = min_max_scaler.fit_transform(X_train)\n",
    "X_train_minmax"
   ]
  },
  {
   "cell_type": "code",
   "execution_count": 27,
   "metadata": {},
   "outputs": [
    {
     "data": {
      "text/plain": [
       "array([[-1.5       ,  0.        ,  1.66666667]])"
      ]
     },
     "execution_count": 27,
     "metadata": {},
     "output_type": "execute_result"
    }
   ],
   "source": [
    "#将上述得到的scaler参数应用到测试数据\n",
    "X_test = np.array([[-3., -1., 4.]])\n",
    "X_test_minmax = min_max_scaler.transform(X_test)\n",
    "X_test_minmax"
   ]
  },
  {
   "cell_type": "code",
   "execution_count": 31,
   "metadata": {},
   "outputs": [
    {
     "data": {
      "text/plain": [
       "(array([ 0.5       ,  0.5       ,  0.33333333]),\n",
       " array([ 0.        ,  0.5       ,  0.33333333]))"
      ]
     },
     "execution_count": 31,
     "metadata": {},
     "output_type": "execute_result"
    }
   ],
   "source": [
    "#可以用一下方法查看scaler的参数\n",
    "min_max_scaler.scale_,min_max_scaler.min_"
   ]
  },
  {
   "cell_type": "markdown",
   "metadata": {},
   "source": [
    "### 2.2 MaxAbsScaler(绝对值最大标准化)\n",
    "#### 与上述标准化方法相似，但是它通过除以最大值将训练集缩放至[-1,1]。这意味着数据已经以０为中心或者是含有非常非常多０的稀疏数据。"
   ]
  },
  {
   "cell_type": "code",
   "execution_count": 32,
   "metadata": {},
   "outputs": [
    {
     "data": {
      "text/plain": [
       "array([[ 0.5, -1. ,  1. ],\n",
       "       [ 1. ,  0. ,  0. ],\n",
       "       [ 0. ,  1. , -0.5]])"
      ]
     },
     "execution_count": 32,
     "metadata": {},
     "output_type": "execute_result"
    }
   ],
   "source": [
    "X_train = np.array([[ 1., -1.,  2.],[ 2.,  0.,  0.],[ 0.,  1., -1.]])\n",
    "max_abs_scaler = preprocessing.MaxAbsScaler()\n",
    "X_train_maxabs = max_abs_scaler.fit_transform(X_train)\n",
    "X_train_maxabs"
   ]
  },
  {
   "cell_type": "code",
   "execution_count": 33,
   "metadata": {},
   "outputs": [
    {
     "data": {
      "text/plain": [
       "array([[-1.5, -1. ,  2. ]])"
      ]
     },
     "execution_count": 33,
     "metadata": {},
     "output_type": "execute_result"
    }
   ],
   "source": [
    "X_test = np.array([[-3., -1., 4.]])\n",
    "X_test_maxabs = max_abs_scaler.transform(X_test)\n",
    "X_test_maxabs"
   ]
  },
  {
   "cell_type": "code",
   "execution_count": 34,
   "metadata": {},
   "outputs": [
    {
     "data": {
      "text/plain": [
       "array([ 2.,  1.,  2.])"
      ]
     },
     "execution_count": 34,
     "metadata": {},
     "output_type": "execute_result"
    }
   ],
   "source": [
    "max_abs_scaler.scale_"
   ]
  },
  {
   "cell_type": "markdown",
   "metadata": {},
   "source": [
    "## 三) 正则化\n",
    "###      3.1 L1、L2正则化"
   ]
  },
  {
   "cell_type": "code",
   "execution_count": 36,
   "metadata": {},
   "outputs": [
    {
     "data": {
      "text/plain": [
       "array([[ 0.40824829, -0.40824829,  0.81649658],\n",
       "       [ 1.        ,  0.        ,  0.        ],\n",
       "       [ 0.        ,  0.70710678, -0.70710678]])"
      ]
     },
     "execution_count": 36,
     "metadata": {},
     "output_type": "execute_result"
    }
   ],
   "source": [
    "X = np.array([[1.,-1.,2.], [2.,0.,0.],[0.,1.,-1.]])\n",
    "X_normalized = preprocessing.normalize(X, norm='l2')\n",
    "X_normalized"
   ]
  },
  {
   "cell_type": "code",
   "execution_count": 37,
   "metadata": {},
   "outputs": [
    {
     "data": {
      "text/plain": [
       "Normalizer(copy=True, norm='l2')"
      ]
     },
     "execution_count": 37,
     "metadata": {},
     "output_type": "execute_result"
    }
   ],
   "source": [
    "# 可以使用processing.Normalizer()类实现对训练集和测试集的拟合和转换\n",
    "normalizer = preprocessing.Normalizer().fit(X)\n",
    "normalizer"
   ]
  },
  {
   "cell_type": "code",
   "execution_count": 39,
   "metadata": {},
   "outputs": [
    {
     "data": {
      "text/plain": [
       "array([[ 0.40824829, -0.40824829,  0.81649658],\n",
       "       [ 1.        ,  0.        ,  0.        ],\n",
       "       [ 0.        ,  0.70710678, -0.70710678]])"
      ]
     },
     "execution_count": 39,
     "metadata": {},
     "output_type": "execute_result"
    }
   ],
   "source": [
    "normalizer.transform(X)"
   ]
  },
  {
   "cell_type": "markdown",
   "metadata": {},
   "source": [
    "## 四)二值化\n",
    "### 4.1 特征二值化"
   ]
  },
  {
   "cell_type": "markdown",
   "metadata": {},
   "source": [
    "### 特征二值化是把数值特征转化成布尔值的过程。这个方法对符合多变量被努力分布的输入数据进行预测概率参数很有效。"
   ]
  },
  {
   "cell_type": "code",
   "execution_count": 40,
   "metadata": {},
   "outputs": [
    {
     "data": {
      "text/plain": [
       "Binarizer(copy=True, threshold=0.0)"
      ]
     },
     "execution_count": 40,
     "metadata": {},
     "output_type": "execute_result"
    }
   ],
   "source": [
    "# input\n",
    "X = np.array([[1.,-1.,2.], [2.,0.,0.],[0.,1.,-1.]])\n",
    "#binary\n",
    "binarizer = preprocessing.Binarizer().fit(X)  # fit does nothing\n",
    "binarizer"
   ]
  },
  {
   "cell_type": "code",
   "execution_count": 42,
   "metadata": {},
   "outputs": [
    {
     "data": {
      "text/plain": [
       "array([[ 1.,  0.,  1.],\n",
       "       [ 1.,  0.,  0.],\n",
       "       [ 0.,  1.,  0.]])"
      ]
     },
     "execution_count": 42,
     "metadata": {},
     "output_type": "execute_result"
    }
   ],
   "source": [
    "binarizer.transform(X)"
   ]
  },
  {
   "cell_type": "code",
   "execution_count": 43,
   "metadata": {},
   "outputs": [
    {
     "data": {
      "text/plain": [
       "array([[ 0.,  0.,  1.],\n",
       "       [ 1.,  0.,  0.],\n",
       "       [ 0.,  0.,  0.]])"
      ]
     },
     "execution_count": 43,
     "metadata": {},
     "output_type": "execute_result"
    }
   ],
   "source": [
    "# 调整阈值\n",
    "binarizer = preprocessing.Binarizer(threshold=1.1)\n",
    "binarizer.transform(X)"
   ]
  },
  {
   "cell_type": "markdown",
   "metadata": {},
   "source": [
    "### 注：稀疏数据输入：\n",
    "\n",
    "binarize 和 Binarizer 既接受稠密数据（dense array-like），也接受稀疏矩阵（from scipy.sparse）作为输入"
   ]
  },
  {
   "cell_type": "markdown",
   "metadata": {},
   "source": [
    "## 五) 对类别特征进行编码"
   ]
  },
  {
   "cell_type": "markdown",
   "metadata": {},
   "source": [
    "### 1、One-Hot Encoding\n",
    "    One-Hot编码，又称为一位有效编码，主要是采用位状态寄存器来对个状态进行编码，每个状态都由他独立的寄存器位，并且在任意时候只有一位有效。\n",
    "    在实际的机器学习的应用任务中，特征有时候并不总是连续值，有可能是一些分类值，如性别可分为“male”和“female”。在机器学习任务中，对于这样的特征，通常我们需要对其进行特征数字化，如下面的例子：\n",
    "有如下三个特征属性：\n",
    "性别：[\"male\"，\"female\"]\n",
    "地区：[\"Europe\"，\"US\"，\"Asia\"]\n",
    "浏览器：[\"Firefox\"，\"Chrome\"，\"Safari\"，\"Internet Explorer\"]\n",
    "对于某一个样本，如[\"male\"，\"US\"，\"Internet Explorer\"]，我们需要将这个分类值的特征数字化，最直接的方法，我们可以采用序列化的方式：[0,1,3]。但是这样的特征处理并不能直接放入机器学习算法中。\n",
    "### 2、One-Hot Encoding的处理方法\n",
    "    对于上述的问题，性别的属性是二维的，同理，地区是三维的，浏览器则是思维的，这样，我们可以采用One-Hot编码的方式对上述的样本“[\"male\"，\"US\"，\"Internet Explorer\"]”编码，“male”则对应着[1，0]，同理“US”对应着[0，1，0]，“Internet Explorer”对应着[0,0,0,1]。则完整的特征数字化的结果为：[1,0,0,1,0,0,0,0,1]。这样导致的一个结果就是数据会变得非常的稀疏。"
   ]
  },
  {
   "cell_type": "markdown",
   "metadata": {},
   "source": [
    "### 3、sklearn例子"
   ]
  },
  {
   "cell_type": "code",
   "execution_count": 46,
   "metadata": {},
   "outputs": [
    {
     "data": {
      "text/plain": [
       "OneHotEncoder(categorical_features='all', dtype=<type 'numpy.float64'>,\n",
       "       handle_unknown='error', n_values='auto', sparse=True)"
      ]
     },
     "execution_count": 46,
     "metadata": {},
     "output_type": "execute_result"
    }
   ],
   "source": [
    "enc = preprocessing.OneHotEncoder()\n",
    "enc.fit([[0,0,3],[1,1,0],[0,2,1],[1,0,2]])"
   ]
  },
  {
   "cell_type": "code",
   "execution_count": 47,
   "metadata": {},
   "outputs": [
    {
     "name": "stdout",
     "output_type": "stream",
     "text": [
      "[[ 1.  0.  0.  1.  0.  0.  0.  0.  1.]]\n"
     ]
    }
   ],
   "source": [
    "array = enc.transform([[0, 1, 3]]).toarray()\n",
    "print array"
   ]
  },
  {
   "cell_type": "markdown",
   "metadata": {},
   "source": [
    "## 六) 缺失值的插补"
   ]
  },
  {
   "cell_type": "markdown",
   "metadata": {},
   "source": [
    "### 上篇文章我们讲了五种方法来解决缺失值的问题，其实sklearn里也有一个工具Imputer可以对缺失值进行插补。Imputer类可以对缺失值进行：\n",
    "    均值插补、\n",
    "    中位数插补\n",
    "    或者某行/列出现的频率最高的值进行插补，\n",
    "    也可以对不同的缺失值进行编码。\n",
    "    并且支持稀疏矩阵。"
   ]
  },
  {
   "cell_type": "code",
   "execution_count": 50,
   "metadata": {},
   "outputs": [
    {
     "data": {
      "text/plain": [
       "Imputer(axis=0, copy=True, missing_values='NaN', strategy='mean', verbose=0)"
      ]
     },
     "execution_count": 50,
     "metadata": {},
     "output_type": "execute_result"
    }
   ],
   "source": [
    "import numpy as np\n",
    "from sklearn.preprocessing import Imputer\n",
    "# 用均值插补缺失值\n",
    "imp = Imputer(missing_values='NaN',\n",
    "              strategy='mean', axis=0)\n",
    "imp.fit([[1, 2], [np.nan, 3], [7, 6]])"
   ]
  },
  {
   "cell_type": "code",
   "execution_count": 51,
   "metadata": {},
   "outputs": [
    {
     "data": {
      "text/plain": [
       "array([[ 4.        ,  2.        ],\n",
       "       [ 6.        ,  3.66666667],\n",
       "       [ 7.        ,  6.        ]])"
      ]
     },
     "execution_count": 51,
     "metadata": {},
     "output_type": "execute_result"
    }
   ],
   "source": [
    "X = [[np.nan, 2], [6, np.nan], [7, 6]]\n",
    "imp.transform(X)"
   ]
  },
  {
   "cell_type": "code",
   "execution_count": 52,
   "metadata": {},
   "outputs": [
    {
     "data": {
      "text/plain": [
       "Imputer(axis=0, copy=True, missing_values=0, strategy='mean', verbose=0)"
      ]
     },
     "execution_count": 52,
     "metadata": {},
     "output_type": "execute_result"
    }
   ],
   "source": [
    "#对稀疏矩阵进行缺失值插补\n",
    "import scipy.sparse as sp\n",
    "X = sp.csc_matrix([[1, 2], [0, 3], [7, 6]])\n",
    "imp = Imputer(missing_values=0, strategy='mean', axis=0)\n",
    "imp.fit(X)"
   ]
  },
  {
   "cell_type": "code",
   "execution_count": 53,
   "metadata": {},
   "outputs": [
    {
     "data": {
      "text/plain": [
       "array([[ 4.        ,  2.        ],\n",
       "       [ 6.        ,  3.66666667],\n",
       "       [ 7.        ,  6.        ]])"
      ]
     },
     "execution_count": 53,
     "metadata": {},
     "output_type": "execute_result"
    }
   ],
   "source": [
    "X_test = sp.csc_matrix([[0, 2], [6, 0], [7, 6]])\n",
    "imp.transform(X_test)"
   ]
  },
  {
   "cell_type": "markdown",
   "metadata": {},
   "source": [
    "### 在稀疏矩阵中，缺失值被编码为0存储为矩阵中，这种格式是适合于缺失值比非缺失值多得多的情况。此外，Imputer类也可以用于Pipeline中"
   ]
  },
  {
   "cell_type": "markdown",
   "metadata": {},
   "source": [
    "## 举个实例(在用随机森林算法之前先用Imputer类进行处理)："
   ]
  },
  {
   "cell_type": "code",
   "execution_count": 54,
   "metadata": {},
   "outputs": [
    {
     "name": "stderr",
     "output_type": "stream",
     "text": [
      "D:\\Root\\0-soft\\Anaconda3\\envs\\py27\\lib\\site-packages\\sklearn\\cross_validation.py:44: DeprecationWarning: This module was deprecated in version 0.18 in favor of the model_selection module into which all the refactored classes and functions are moved. Also note that the interface of the new CV iterators are different from that of this module. This module will be removed in 0.20.\n",
      "  \"This module will be removed in 0.20.\", DeprecationWarning)\n"
     ]
    }
   ],
   "source": [
    "import numpy as np\n",
    "from sklearn.datasets import load_boston\n",
    "from sklearn.ensemble import RandomForestRegressor\n",
    "from sklearn.pipeline import Pipeline\n",
    "from sklearn.preprocessing import Imputer\n",
    "from sklearn.cross_validation import cross_val_score"
   ]
  },
  {
   "cell_type": "code",
   "execution_count": 55,
   "metadata": {
    "collapsed": true
   },
   "outputs": [],
   "source": [
    "rng = np.random.RandomState(0)"
   ]
  },
  {
   "cell_type": "code",
   "execution_count": 61,
   "metadata": {},
   "outputs": [],
   "source": [
    "dataset = load_boston()\n",
    "X_full, y_full = dataset.data, dataset.target\n",
    "n_samples, n_features = X_full.shape[0], X_full.shape[1]"
   ]
  },
  {
   "cell_type": "code",
   "execution_count": 63,
   "metadata": {},
   "outputs": [
    {
     "data": {
      "text/plain": [
       "(506L, 13L)"
      ]
     },
     "execution_count": 63,
     "metadata": {},
     "output_type": "execute_result"
    }
   ],
   "source": [
    "X_full.shape"
   ]
  },
  {
   "cell_type": "code",
   "execution_count": 64,
   "metadata": {},
   "outputs": [
    {
     "name": "stdout",
     "output_type": "stream",
     "text": [
      "Score with the entire dataset = 0.56\n"
     ]
    }
   ],
   "source": [
    "# Estimate the score on the entire dataset, with no missing values\n",
    "estimator = RandomForestRegressor(n_estimators=100, random_state=0)\n",
    "score = cross_val_score(estimator, X_full, y_full).mean()\n",
    "print \"Score with the entire dataset = %.2f\" % score"
   ]
  },
  {
   "cell_type": "code",
   "execution_count": 69,
   "metadata": {},
   "outputs": [
    {
     "ename": "TypeError",
     "evalue": "'numpy.float64' object cannot be interpreted as an index",
     "output_type": "error",
     "traceback": [
      "\u001b[1;31m---------------------------------------------------------------------------\u001b[0m",
      "\u001b[1;31mTypeError\u001b[0m                                 Traceback (most recent call last)",
      "\u001b[1;32m<ipython-input-69-6e8240ffe0e4>\u001b[0m in \u001b[0;36m<module>\u001b[1;34m()\u001b[0m\n\u001b[0;32m      3\u001b[0m \u001b[0mn_missing_samples\u001b[0m \u001b[1;33m=\u001b[0m \u001b[0mnp\u001b[0m\u001b[1;33m.\u001b[0m\u001b[0mfloor\u001b[0m\u001b[1;33m(\u001b[0m\u001b[0mn_samples\u001b[0m \u001b[1;33m*\u001b[0m \u001b[0mmissing_rate\u001b[0m\u001b[1;33m)\u001b[0m\u001b[1;33m\u001b[0m\u001b[0m\n\u001b[0;32m      4\u001b[0m missing_samples = np.hstack((np.zeros(n_samples - n_missing_samples,\n\u001b[1;32m----> 5\u001b[1;33m                                       dtype=np.bool),\n\u001b[0m\u001b[0;32m      6\u001b[0m                              np.ones(n_missing_samples,\n\u001b[0;32m      7\u001b[0m                                      dtype=np.bool)))\n",
      "\u001b[1;31mTypeError\u001b[0m: 'numpy.float64' object cannot be interpreted as an index"
     ]
    }
   ],
   "source": [
    "# Add missing values in 75% of the lines\n",
    "missing_rate = 0.75\n",
    "n_missing_samples = np.floor(n_samples * missing_rate)\n",
    "missing_samples = np.hstack((np.zeros(n_samples - n_missing_samples,\n",
    "                                      dtype=np.bool),\n",
    "                             np.ones(n_missing_samples,\n",
    "                                     dtype=np.bool)))\n",
    "#    有问题先把代码 码这吧"
   ]
  },
  {
   "cell_type": "code",
   "execution_count": 70,
   "metadata": {},
   "outputs": [
    {
     "ename": "NameError",
     "evalue": "name 'missing_smples' is not defined",
     "output_type": "error",
     "traceback": [
      "\u001b[1;31m---------------------------------------------------------------------------\u001b[0m",
      "\u001b[1;31mNameError\u001b[0m                                 Traceback (most recent call last)",
      "\u001b[1;32m<ipython-input-70-7bfbfb9eb6bb>\u001b[0m in \u001b[0;36m<module>\u001b[1;34m()\u001b[0m\n\u001b[1;32m----> 1\u001b[1;33m \u001b[0mrng\u001b[0m\u001b[1;33m.\u001b[0m\u001b[0mshuffle\u001b[0m\u001b[1;33m(\u001b[0m\u001b[0mmissing_smples\u001b[0m\u001b[1;33m)\u001b[0m\u001b[1;33m\u001b[0m\u001b[0m\n\u001b[0m\u001b[0;32m      2\u001b[0m \u001b[0mmissing_features\u001b[0m \u001b[1;33m=\u001b[0m \u001b[0mrng\u001b[0m\u001b[1;33m.\u001b[0m\u001b[0mrandint\u001b[0m\u001b[1;33m(\u001b[0m\u001b[1;36m0\u001b[0m\u001b[1;33m,\u001b[0m \u001b[0mn_features\u001b[0m\u001b[1;33m,\u001b[0m \u001b[0mn_missing_samples\u001b[0m\u001b[1;33m)\u001b[0m\u001b[1;33m\u001b[0m\u001b[0m\n\u001b[0;32m      3\u001b[0m \u001b[1;33m\u001b[0m\u001b[0m\n\u001b[0;32m      4\u001b[0m \u001b[1;31m# Estimate the score without the lines containing missing values\u001b[0m\u001b[1;33m\u001b[0m\u001b[1;33m\u001b[0m\u001b[0m\n\u001b[0;32m      5\u001b[0m \u001b[0mX_filtered\u001b[0m \u001b[1;33m=\u001b[0m \u001b[0mX_full\u001b[0m\u001b[1;33m[\u001b[0m\u001b[1;33m~\u001b[0m\u001b[0mmissing_samples\u001b[0m\u001b[1;33m,\u001b[0m \u001b[1;33m:\u001b[0m\u001b[1;33m]\u001b[0m\u001b[1;33m\u001b[0m\u001b[0m\n",
      "\u001b[1;31mNameError\u001b[0m: name 'missing_smples' is not defined"
     ]
    }
   ],
   "source": [
    "rng.shuffle(missing_smples)\n",
    "missing_features = rng.randint(0, n_features, n_missing_samples)\n",
    "\n",
    "# Estimate the score without the lines containing missing values\n",
    "X_filtered = X_full[~missing_samples, :]\n",
    "y_filtered = y_full[~missing_samples]\n",
    "estimator = RandomForestRegressor(random_state=0, n_estimators=100)\n",
    "score = cross_val_score(estimator, X_filtered, y_filtered).mean()\n",
    "print \"Score without the samples containing missing values = %.2f\" % score"
   ]
  },
  {
   "cell_type": "code",
   "execution_count": 71,
   "metadata": {},
   "outputs": [
    {
     "ename": "NameError",
     "evalue": "name 'missing_samples' is not defined",
     "output_type": "error",
     "traceback": [
      "\u001b[1;31m---------------------------------------------------------------------------\u001b[0m",
      "\u001b[1;31mNameError\u001b[0m                                 Traceback (most recent call last)",
      "\u001b[1;32m<ipython-input-71-8c70fdda03bf>\u001b[0m in \u001b[0;36m<module>\u001b[1;34m()\u001b[0m\n\u001b[0;32m      1\u001b[0m \u001b[1;31m# Estimate the score after imputation of missing values\u001b[0m\u001b[1;33m\u001b[0m\u001b[1;33m\u001b[0m\u001b[0m\n\u001b[0;32m      2\u001b[0m \u001b[0mX_missing\u001b[0m \u001b[1;33m=\u001b[0m \u001b[0mX_full\u001b[0m\u001b[1;33m.\u001b[0m\u001b[0mcopy\u001b[0m\u001b[1;33m(\u001b[0m\u001b[1;33m)\u001b[0m\u001b[1;33m\u001b[0m\u001b[0m\n\u001b[1;32m----> 3\u001b[1;33m \u001b[0mX_missing\u001b[0m\u001b[1;33m[\u001b[0m\u001b[0mnp\u001b[0m\u001b[1;33m.\u001b[0m\u001b[0mwhere\u001b[0m\u001b[1;33m(\u001b[0m\u001b[0mmissing_samples\u001b[0m\u001b[1;33m)\u001b[0m\u001b[1;33m[\u001b[0m\u001b[1;36m0\u001b[0m\u001b[1;33m]\u001b[0m\u001b[1;33m,\u001b[0m \u001b[0mmissing_features\u001b[0m\u001b[1;33m]\u001b[0m \u001b[1;33m=\u001b[0m \u001b[1;36m0\u001b[0m\u001b[1;33m\u001b[0m\u001b[0m\n\u001b[0m\u001b[0;32m      4\u001b[0m \u001b[0my_missing\u001b[0m \u001b[1;33m=\u001b[0m \u001b[0my_full\u001b[0m\u001b[1;33m.\u001b[0m\u001b[0mcopy\u001b[0m\u001b[1;33m(\u001b[0m\u001b[1;33m)\u001b[0m\u001b[1;33m\u001b[0m\u001b[0m\n\u001b[0;32m      5\u001b[0m estimator = Pipeline([('imputer', Imputer(missing_values=0,\n",
      "\u001b[1;31mNameError\u001b[0m: name 'missing_samples' is not defined"
     ]
    }
   ],
   "source": [
    "# Estimate the score after imputation of missing values\n",
    "X_missing = X_full.copy()\n",
    "X_missing[np.where(missing_samples)[0], missing_features] = 0\n",
    "y_missing = y_full.copy()\n",
    "estimator = Pipeline([('imputer', Imputer(missing_values=0,\n",
    "                                         strategy='mean',\n",
    "                                         axis=0)),\n",
    "                     (\"forest\", RandomForestRegressor(random_state = 0,\n",
    "                                                      n_estimators=100))])\n",
    "score = cross_val_score(estimator, X_missing, y_missing).mean()\n",
    "print \"Score after imputation of the missing values = %.2f\" % score"
   ]
  },
  {
   "cell_type": "markdown",
   "metadata": {},
   "source": [
    "## 七）生成多项式特征"
   ]
  },
  {
   "cell_type": "markdown",
   "metadata": {},
   "source": [
    "### 在输入数据中增加非线性特征可以有效的提高模型的复杂度。\n",
    "### 简单且常用的方法就是使用多项式特征（polynomial features),可以得到特征的高阶交叉项："
   ]
  },
  {
   "cell_type": "code",
   "execution_count": 73,
   "metadata": {},
   "outputs": [
    {
     "data": {
      "text/plain": [
       "array([[0, 1],\n",
       "       [2, 3],\n",
       "       [4, 5]])"
      ]
     },
     "execution_count": 73,
     "metadata": {},
     "output_type": "execute_result"
    }
   ],
   "source": [
    "import numpy as np\n",
    "from sklearn.preprocessing import PolynomialFeatures\n",
    "X = np.arange(6).reshape(3, 2)\n",
    "X"
   ]
  },
  {
   "cell_type": "code",
   "execution_count": 74,
   "metadata": {},
   "outputs": [
    {
     "data": {
      "text/plain": [
       "array([[  1.,   0.,   1.,   0.,   0.,   1.],\n",
       "       [  1.,   2.,   3.,   4.,   6.,   9.],\n",
       "       [  1.,   4.,   5.,  16.,  20.,  25.]])"
      ]
     },
     "execution_count": 74,
     "metadata": {},
     "output_type": "execute_result"
    }
   ],
   "source": [
    "poly = PolynomialFeatures(2)\n",
    "poly.fit_transform(X)"
   ]
  },
  {
   "cell_type": "markdown",
   "metadata": {},
   "source": [
    "### 这样， 就被转化成 . \n",
    "\n",
    "### 然而有时候我们只需要特征的交叉项，可以设置interaction_only=True来得到："
   ]
  },
  {
   "cell_type": "code",
   "execution_count": 75,
   "metadata": {},
   "outputs": [
    {
     "data": {
      "text/plain": [
       "array([[0, 1, 2],\n",
       "       [3, 4, 5],\n",
       "       [6, 7, 8]])"
      ]
     },
     "execution_count": 75,
     "metadata": {},
     "output_type": "execute_result"
    }
   ],
   "source": [
    "X = np.arange(9).reshape(3, 3)\n",
    "X"
   ]
  },
  {
   "cell_type": "code",
   "execution_count": 77,
   "metadata": {},
   "outputs": [
    {
     "data": {
      "text/plain": [
       "array([[   1.,    0.,    1.,    2.,    0.,    0.,    2.,    0.],\n",
       "       [   1.,    3.,    4.,    5.,   12.,   15.,   20.,   60.],\n",
       "       [   1.,    6.,    7.,    8.,   42.,   48.,   56.,  336.]])"
      ]
     },
     "execution_count": 77,
     "metadata": {},
     "output_type": "execute_result"
    }
   ],
   "source": [
    "poly = PolynomialFeatures(degree=3, interaction_only=True)\n",
    "poly.fit_transform(X)"
   ]
  },
  {
   "cell_type": "markdown",
   "metadata": {},
   "source": [
    "## 八) 自定义转换\n",
    "### 如果以上的方法觉得都不够，譬如你想用对数据取对数，可以自己用 FunctionTransformer自定义一个转化器,并且可以在Pipeline中使用"
   ]
  },
  {
   "cell_type": "code",
   "execution_count": 80,
   "metadata": {},
   "outputs": [
    {
     "data": {
      "text/plain": [
       "array([[ 0.        ,  0.69314718],\n",
       "       [ 1.09861229,  1.38629436]])"
      ]
     },
     "execution_count": 80,
     "metadata": {},
     "output_type": "execute_result"
    }
   ],
   "source": [
    "import numpy as np\n",
    "from sklearn.preprocessing import FunctionTransformer\n",
    "transformer = FunctionTransformer(np.log1p) #括号内的就是自定义的函数\n",
    "X = np.array([[0, 1], [2, 3]])\n",
    "transformer.transform(X)"
   ]
  },
  {
   "cell_type": "markdown",
   "metadata": {},
   "source": [
    "### 告诉你怎么用：\n",
    "\n",
    "### 如果你在做一个分类任务时，发现第一主成分与这个不相关，你可以用FunctionTransformer把第一列除去，剩下的列用PCA："
   ]
  },
  {
   "cell_type": "code",
   "execution_count": 86,
   "metadata": {},
   "outputs": [
    {
     "data": {
      "image/png": "[encoded data removed]",
      "text/plain": [
       "<matplotlib.figure.Figure at 0xa4bf358>"
      ]
     },
     "metadata": {},
     "output_type": "display_data"
    },
    {
     "data": {
      "image/png": "[encoded data removed]",
      "text/plain": [
       "<matplotlib.figure.Figure at 0xa69b828>"
      ]
     },
     "metadata": {},
     "output_type": "display_data"
    }
   ],
   "source": [
    "import matplotlib.pyplot as plt\n",
    "import numpy as np\n",
    "\n",
    "from sklearn.cross_validation import train_test_split\n",
    "from sklearn.decomposition import PCA\n",
    "from sklearn.pipeline import make_pipeline\n",
    "from sklearn.preprocessing import FunctionTransformer\n",
    "\n",
    "def _generate_vector(shift=0.5, noise=15):\n",
    "    return np.arange(1000) + (np.random.rand(1000) - shift) * noise\n",
    "\n",
    "def generate_dataset():\n",
    "    \"\"\"\n",
    "    This dataset is two lines with a slope ~ 1, where one has\n",
    "    a y offset of ~100\n",
    "    \"\"\"\n",
    "    return np.vstack((\n",
    "        np.vstack((\n",
    "            _generate_vector(),\n",
    "            _generate_vector() + 100,\n",
    "        )).T,\n",
    "        np.vstack((\n",
    "            _generate_vector(),\n",
    "            _generate_vector(),\n",
    "        )).T,\n",
    "    )), np.hstack((np.zeros(1000), np.ones(1000)))\n",
    "\n",
    "def all_but_first_column(X):\n",
    "    return X[:, 1:]\n",
    "\n",
    "def drop_first_component(X, y):\n",
    "    \"\"\"\n",
    "    Create a pipeline with PCA and the column selector and use it to\n",
    "    transform the dataset.\n",
    "    \"\"\"\n",
    "    pipeline = make_pipeline(\n",
    "        PCA(), FunctionTransformer(all_but_first_column),\n",
    "    )\n",
    "    X_train, X_test, y_train, y_test = train_test_split(X, y)\n",
    "    pipeline.fit(X_train, y_train)\n",
    "    return pipeline.transform(X_test), y_test\n",
    "\n",
    "if __name__ == '__main__':\n",
    "    X, y = generate_dataset() #X.shape:(2000L, 2L), y.shape: (2000L,)\n",
    "    plt.scatter(X[:, 0], X[:, 1], c=y, s=50)\n",
    "    plt.show()\n",
    "    X_transformed, y_transformed = drop_first_component(*generate_dataset())\n",
    "    plt.scatter(X_transformed[:, 0],\n",
    "                np.zeros(len(X_transformed)),\n",
    "                c = y_transformed,\n",
    "                s=50)\n",
    "    plt.show()"
   ]
  },
  {
   "cell_type": "code",
   "execution_count": 92,
   "metadata": {},
   "outputs": [
    {
     "data": {
      "text/plain": [
       "array([  3.13674289e+00,   1.05626935e+00,   8.45209315e+00,\n",
       "         9.19559546e+00,   1.00894984e+01,  -2.04697992e+00,\n",
       "         9.72202330e-01,   1.29798570e+01,   2.54631458e+00,\n",
       "         1.28589427e+01,   6.23790409e+00,   4.51599230e+00,\n",
       "         1.29901868e+01,   1.55486022e+01,   1.34104859e+01,\n",
       "         1.69058133e+01,   1.57969717e+01,   1.12433533e+01,\n",
       "         2.38180944e+01,   1.62998330e+01,   1.34886184e+01,\n",
       "         2.41287908e+01,   2.94324807e+01,   2.88598979e+01,\n",
       "         2.64005407e+01,   2.37962368e+01,   2.90315276e+01,\n",
       "         2.20996635e+01,   2.40721535e+01,   2.77399921e+01,\n",
       "         3.67294377e+01,   3.69338622e+01,   3.86424393e+01,\n",
       "         3.07256439e+01,   2.70793533e+01,   3.45766232e+01,\n",
       "         3.92655777e+01,   4.27484632e+01,   3.85072456e+01,\n",
       "         3.58541673e+01,   4.66103165e+01,   3.75718705e+01,\n",
       "         4.44440314e+01,   3.66085619e+01,   5.11093067e+01,\n",
       "         3.89430969e+01,   5.24549123e+01,   5.26892412e+01,\n",
       "         4.16579703e+01,   5.21023244e+01,   4.39535529e+01,\n",
       "         4.87970563e+01,   4.77004555e+01,   5.83026151e+01,\n",
       "         5.39851799e+01,   6.01088118e+01,   6.31788057e+01,\n",
       "         5.84952719e+01,   6.18681035e+01,   5.94584052e+01,\n",
       "         5.79717183e+01,   5.91238299e+01,   6.39296045e+01,\n",
       "         5.55432252e+01,   6.47146405e+01,   6.26568339e+01,\n",
       "         6.61416539e+01,   5.98358531e+01,   6.45356345e+01,\n",
       "         6.41100069e+01,   6.89620784e+01,   7.33629814e+01,\n",
       "         6.68870240e+01,   6.93697672e+01,   8.07323799e+01,\n",
       "         8.22462038e+01,   6.96726496e+01,   7.56748505e+01,\n",
       "         7.17058343e+01,   8.43555222e+01,   8.55783814e+01,\n",
       "         8.51995866e+01,   7.48638604e+01,   8.76735397e+01,\n",
       "         8.54099149e+01,   8.53008342e+01,   8.41753905e+01,\n",
       "         8.85450284e+01,   9.19162281e+01,   8.72663200e+01,\n",
       "         9.09367489e+01,   9.29018651e+01,   9.50003587e+01,\n",
       "         8.92178363e+01,   9.56069561e+01,   9.84071463e+01,\n",
       "         9.05484138e+01,   9.67752701e+01,   9.79726363e+01,\n",
       "         9.61874178e+01,   9.78104647e+01,   9.82128500e+01,\n",
       "         1.06228149e+02,   1.08496513e+02,   1.00222216e+02,\n",
       "         1.08105210e+02,   1.05810451e+02,   1.11781437e+02,\n",
       "         1.14368482e+02,   1.04373473e+02,   1.04648258e+02,\n",
       "         1.14042153e+02,   1.14209524e+02,   1.19358563e+02,\n",
       "         1.14644245e+02,   1.11317000e+02,   1.15571515e+02,\n",
       "         1.19623452e+02,   1.13099078e+02,   1.23736872e+02,\n",
       "         1.22771253e+02,   1.15698718e+02,   1.28861668e+02,\n",
       "         1.28461479e+02,   1.20817613e+02,   1.18066941e+02,\n",
       "         1.31546802e+02,   1.34266177e+02,   1.31089557e+02,\n",
       "         1.22874461e+02,   1.33481086e+02,   1.35820792e+02,\n",
       "         1.28692947e+02,   1.35295786e+02,   1.38273495e+02,\n",
       "         1.30941009e+02,   1.32283823e+02,   1.40790777e+02,\n",
       "         1.34274459e+02,   1.43450127e+02,   1.39230355e+02,\n",
       "         1.41901992e+02,   1.40421612e+02,   1.42327963e+02,\n",
       "         1.43415845e+02,   1.48782054e+02,   1.42196724e+02,\n",
       "         1.54245265e+02,   1.52332990e+02,   1.50142978e+02,\n",
       "         1.45999849e+02,   1.46821789e+02,   1.54821099e+02,\n",
       "         1.60041253e+02,   1.49445674e+02,   1.51499269e+02,\n",
       "         1.53562435e+02,   1.62949002e+02,   1.60984729e+02,\n",
       "         1.62036646e+02,   1.61776746e+02,   1.57110188e+02,\n",
       "         1.62925238e+02,   1.56967326e+02,   1.70424611e+02,\n",
       "         1.61186807e+02,   1.64999669e+02,   1.68930646e+02,\n",
       "         1.66656133e+02,   1.70698337e+02,   1.77216587e+02,\n",
       "         1.75156570e+02,   1.73144902e+02,   1.74863161e+02,\n",
       "         1.74826422e+02,   1.68767425e+02,   1.73481261e+02,\n",
       "         1.77760565e+02,   1.78586897e+02,   1.80458662e+02,\n",
       "         1.85849631e+02,   1.78330376e+02,   1.85300096e+02,\n",
       "         1.85271354e+02,   1.81921682e+02,   1.88163543e+02,\n",
       "         1.86523379e+02,   1.86255598e+02,   1.86412139e+02,\n",
       "         1.91511156e+02,   1.89845330e+02,   1.97082510e+02,\n",
       "         1.87603858e+02,   1.93005778e+02,   1.95248906e+02,\n",
       "         1.88963323e+02,   2.02017674e+02,   1.91095470e+02,\n",
       "         1.97591191e+02,   1.94912056e+02,   1.99287893e+02,\n",
       "         1.93814702e+02,   1.96663024e+02,   2.09797742e+02,\n",
       "         2.07665575e+02,   2.08887929e+02,   2.04597926e+02,\n",
       "         2.12600244e+02,   2.03781431e+02,   2.15981153e+02,\n",
       "         2.02754073e+02,   2.10546655e+02,   2.06609606e+02,\n",
       "         2.16523557e+02,   2.15560270e+02,   2.10851735e+02,\n",
       "         2.09786522e+02,   2.21442969e+02,   2.11012417e+02,\n",
       "         2.12749113e+02,   2.19067278e+02,   2.23424921e+02,\n",
       "         2.17962051e+02,   2.28425516e+02,   2.19673559e+02,\n",
       "         2.21036519e+02,   2.30607672e+02,   2.25695532e+02,\n",
       "         2.31078170e+02,   2.35528039e+02,   2.29773380e+02,\n",
       "         2.30985694e+02,   2.36612625e+02,   2.26057568e+02,\n",
       "         2.40005798e+02,   2.31488664e+02,   2.30830233e+02,\n",
       "         2.37699436e+02,   2.31044780e+02,   2.43704396e+02,\n",
       "         2.43292669e+02,   2.43242282e+02,   2.43224855e+02,\n",
       "         2.43553987e+02,   2.38474447e+02,   2.41813960e+02,\n",
       "         2.45523715e+02,   2.45404283e+02,   2.48133808e+02,\n",
       "         2.42957664e+02,   2.44001474e+02,   2.55576707e+02,\n",
       "         2.45368536e+02,   2.58448469e+02,   2.51634099e+02,\n",
       "         2.49719696e+02,   2.61749179e+02,   2.54206261e+02,\n",
       "         2.61857160e+02,   2.58526246e+02,   2.67059604e+02,\n",
       "         2.64379472e+02,   2.67134381e+02,   2.55942272e+02,\n",
       "         2.59785752e+02,   2.70244084e+02,   2.73082151e+02,\n",
       "         2.72541366e+02,   2.67892695e+02,   2.75066702e+02,\n",
       "         2.64212265e+02,   2.77481674e+02,   2.78215009e+02,\n",
       "         2.70433351e+02,   2.73309074e+02,   2.72386407e+02,\n",
       "         2.77177640e+02,   2.84218464e+02,   2.80259350e+02,\n",
       "         2.81216660e+02,   2.74073345e+02,   2.77272562e+02,\n",
       "         2.87577667e+02,   2.88003017e+02,   2.86741067e+02,\n",
       "         2.92156266e+02,   2.91811696e+02,   2.89032838e+02,\n",
       "         2.80545671e+02,   2.95357646e+02,   2.93092235e+02,\n",
       "         2.97704243e+02,   2.94157971e+02,   2.89310093e+02,\n",
       "         2.90124222e+02,   2.99146655e+02,   2.98156655e+02,\n",
       "         2.96896324e+02,   2.97393149e+02,   2.92339968e+02,\n",
       "         2.94990267e+02,   2.96003937e+02,   2.96714082e+02,\n",
       "         2.97734854e+02,   3.07141491e+02,   3.04279747e+02,\n",
       "         3.03914582e+02,   3.12199035e+02,   3.02773071e+02,\n",
       "         3.10324058e+02,   3.14573594e+02,   3.16610561e+02,\n",
       "         3.06403393e+02,   3.20221295e+02,   3.14354183e+02,\n",
       "         3.11221243e+02,   3.19439646e+02,   3.23387142e+02,\n",
       "         3.19299878e+02,   3.13813019e+02,   3.17616032e+02,\n",
       "         3.17886053e+02,   3.20100861e+02,   3.26832225e+02,\n",
       "         3.24150775e+02,   3.23565046e+02,   3.29066141e+02,\n",
       "         3.28133968e+02,   3.20819195e+02,   3.32445556e+02,\n",
       "         3.31195309e+02,   3.29700804e+02,   3.29281653e+02,\n",
       "         3.31077979e+02,   3.27767791e+02,   3.36621353e+02,\n",
       "         3.41309960e+02,   3.37602720e+02,   3.36519789e+02,\n",
       "         3.39073931e+02,   3.41307033e+02,   3.46614890e+02,\n",
       "         3.48816774e+02,   3.41731403e+02,   3.36899139e+02,\n",
       "         3.50641615e+02,   3.39686153e+02,   3.50932239e+02,\n",
       "         3.45189868e+02,   3.53091021e+02,   3.43599854e+02,\n",
       "         3.46771599e+02,   3.56466063e+02,   3.55635552e+02,\n",
       "         3.55621092e+02,   3.50015832e+02,   3.62062073e+02,\n",
       "         3.56136474e+02,   3.55618436e+02,   3.51548642e+02,\n",
       "         3.66413928e+02,   3.66805925e+02,   3.61042620e+02,\n",
       "         3.69540035e+02,   3.60097064e+02,   3.60694330e+02,\n",
       "         3.67600374e+02,   3.63367810e+02,   3.64721778e+02,\n",
       "         3.74457706e+02,   3.73653228e+02,   3.67180583e+02,\n",
       "         3.71023580e+02,   3.66472365e+02,   3.70189906e+02,\n",
       "         3.72150563e+02,   3.70476270e+02,   3.76541558e+02,\n",
       "         3.72855653e+02,   3.82707937e+02,   3.74277556e+02,\n",
       "         3.81824833e+02,   3.85822828e+02,   3.77886502e+02,\n",
       "         3.91051197e+02,   3.81118696e+02,   3.84322832e+02,\n",
       "         3.81775589e+02,   3.91580252e+02,   3.88346013e+02,\n",
       "         3.92645626e+02,   3.83869773e+02,   3.86416041e+02,\n",
       "         3.88515656e+02,   3.92902624e+02,   3.90076148e+02,\n",
       "         4.01077277e+02,   3.93028354e+02,   4.04542374e+02,\n",
       "         3.98377140e+02,   3.98326271e+02,   3.95156433e+02,\n",
       "         4.04208254e+02,   3.96078903e+02,   4.01392523e+02,\n",
       "         4.03506614e+02,   4.12025976e+02,   4.05497739e+02,\n",
       "         4.02264677e+02,   4.08285889e+02,   4.05675981e+02,\n",
       "         4.18489611e+02,   4.15554766e+02,   4.18175367e+02,\n",
       "         4.19452012e+02,   4.13867683e+02,   4.22186292e+02,\n",
       "         4.22954077e+02,   4.14522069e+02,   4.25970284e+02,\n",
       "         4.22777723e+02,   4.24783919e+02,   4.25252802e+02,\n",
       "         4.22737637e+02,   4.30826597e+02,   4.29701858e+02,\n",
       "         4.30069916e+02,   4.24276525e+02,   4.20990266e+02,\n",
       "         4.26973949e+02,   4.24275728e+02,   4.34965346e+02,\n",
       "         4.31933459e+02,   4.33924041e+02,   4.27961781e+02,\n",
       "         4.30547257e+02,   4.39957342e+02,   4.39063739e+02,\n",
       "         4.40799291e+02,   4.32797287e+02,   4.40446214e+02,\n",
       "         4.37912093e+02,   4.41902884e+02,   4.41992122e+02,\n",
       "         4.41211545e+02,   4.44995210e+02,   4.41675732e+02,\n",
       "         4.53533818e+02,   4.53476163e+02,   4.41997252e+02,\n",
       "         4.49166579e+02,   4.55652259e+02,   4.47119348e+02,\n",
       "         4.59640246e+02,   4.60105079e+02,   4.54510037e+02,\n",
       "         4.52945055e+02,   4.54989996e+02,   4.61038622e+02,\n",
       "         4.63987177e+02,   4.57745434e+02,   4.54691443e+02,\n",
       "         4.63587367e+02,   4.68771063e+02,   4.58141194e+02,\n",
       "         4.71998057e+02,   4.67289519e+02,   4.66148060e+02,\n",
       "         4.65954261e+02,   4.61974500e+02,   4.70443771e+02,\n",
       "         4.65988517e+02,   4.71679174e+02,   4.69414756e+02,\n",
       "         4.75203003e+02,   4.75438808e+02,   4.80454132e+02,\n",
       "         4.81962012e+02,   4.77908596e+02,   4.76011234e+02,\n",
       "         4.80132497e+02,   4.79514451e+02,   4.89490336e+02,\n",
       "         4.79269153e+02,   4.89982891e+02,   4.80538688e+02,\n",
       "         4.83919749e+02,   4.83900362e+02,   4.95064607e+02,\n",
       "         4.95909310e+02,   4.94419904e+02,   4.96760328e+02,\n",
       "         4.84564867e+02,   4.98749945e+02,   4.86784724e+02,\n",
       "         4.98937234e+02,   4.89723310e+02,   4.89901088e+02,\n",
       "         4.91682906e+02,   4.92681115e+02,   5.01405470e+02,\n",
       "         5.05515238e+02,   5.08967577e+02,   5.02502523e+02,\n",
       "         5.08068199e+02,   5.09095254e+02,   4.99067562e+02,\n",
       "         5.09253257e+02,   5.14021458e+02,   5.10154323e+02,\n",
       "         5.10034064e+02,   5.11936303e+02,   5.10148525e+02,\n",
       "         5.15416958e+02,   5.12948602e+02,   5.15314736e+02,\n",
       "         5.21306183e+02,   5.10554844e+02,   5.13515262e+02,\n",
       "         5.24167627e+02,   5.14526607e+02,   5.20508047e+02,\n",
       "         5.22731713e+02,   5.15813608e+02,   5.25423814e+02,\n",
       "         5.19896834e+02,   5.32271936e+02,   5.23687998e+02,\n",
       "         5.33257863e+02,   5.21934394e+02,   5.23939049e+02,\n",
       "         5.27767420e+02,   5.25518750e+02,   5.36203825e+02,\n",
       "         5.34466265e+02,   5.36440355e+02,   5.39408992e+02,\n",
       "         5.43810662e+02,   5.34263017e+02,   5.40548057e+02,\n",
       "         5.43964029e+02,   5.46369124e+02,   5.34635827e+02,\n",
       "         5.50400210e+02,   5.46512935e+02,   5.40478305e+02,\n",
       "         5.49768863e+02,   5.51833642e+02,   5.51603488e+02,\n",
       "         5.42260494e+02,   5.51968890e+02,   5.45024127e+02,\n",
       "         5.51297539e+02,   5.46331215e+02,   5.59408904e+02,\n",
       "         5.49247724e+02,   5.58538117e+02,   5.51893245e+02,\n",
       "         5.50583115e+02,   5.66113174e+02,   5.53456823e+02,\n",
       "         5.55088420e+02,   5.67239193e+02,   5.66709790e+02,\n",
       "         5.64537403e+02,   5.62249186e+02,   5.71598581e+02,\n",
       "         5.61361587e+02,   5.69166608e+02,   5.65993592e+02,\n",
       "         5.72884552e+02,   5.70540350e+02,   5.65525722e+02,\n",
       "         5.78866264e+02,   5.76820636e+02,   5.79063179e+02,\n",
       "         5.78051229e+02,   5.81272513e+02,   5.71910363e+02,\n",
       "         5.75988450e+02,   5.85536840e+02,   5.85536210e+02,\n",
       "         5.87653787e+02,   5.79230856e+02,   5.79595743e+02,\n",
       "         5.85633488e+02,   5.83261825e+02,   5.93155407e+02,\n",
       "         5.91489920e+02,   5.96476758e+02,   5.96612340e+02,\n",
       "         5.87298201e+02,   5.85717147e+02,   5.92629627e+02,\n",
       "         6.00609829e+02,   5.90305228e+02,   5.91745466e+02,\n",
       "         5.98721353e+02,   5.99994659e+02,   5.93943743e+02,\n",
       "         5.95578053e+02,   6.03873952e+02,   6.05033781e+02,\n",
       "         6.04015737e+02,   5.99365801e+02,   6.03208448e+02,\n",
       "         6.13444239e+02,   6.11369987e+02,   6.07276673e+02,\n",
       "         6.02078543e+02,   6.09422593e+02,   6.10068773e+02,\n",
       "         6.12787838e+02,   6.18243337e+02,   6.12767515e+02,\n",
       "         6.20204431e+02,   6.10217104e+02,   6.16559483e+02,\n",
       "         6.24170655e+02,   6.13825376e+02,   6.21253907e+02,\n",
       "         6.18009115e+02,   6.19831222e+02,   6.21699364e+02,\n",
       "         6.20746197e+02,   6.23454993e+02,   6.26563216e+02,\n",
       "         6.29420466e+02,   6.29361020e+02,   6.26451669e+02,\n",
       "         6.31798666e+02,   6.35655829e+02,   6.32198568e+02,\n",
       "         6.28998011e+02,   6.36253004e+02,   6.34260304e+02,\n",
       "         6.40671820e+02,   6.33455832e+02,   6.36853082e+02,\n",
       "         6.44963319e+02,   6.34125177e+02,   6.47216960e+02,\n",
       "         6.44739494e+02,   6.35846856e+02,   6.39379854e+02,\n",
       "         6.47779491e+02,   6.43023761e+02,   6.46377643e+02,\n",
       "         6.45446932e+02,   6.48076506e+02,   6.45075869e+02,\n",
       "         6.45630276e+02,   6.49106056e+02,   6.58804088e+02,\n",
       "         6.56905051e+02,   6.59492488e+02,   6.51132379e+02,\n",
       "         6.60599770e+02,   6.62730031e+02,   6.55307651e+02,\n",
       "         6.64276469e+02,   6.64870661e+02,   6.64473692e+02,\n",
       "         6.66023780e+02,   6.63463137e+02,   6.61566579e+02,\n",
       "         6.66802315e+02,   6.61056907e+02,   6.73901987e+02,\n",
       "         6.71043053e+02,   6.71312827e+02,   6.70567021e+02,\n",
       "         6.68812769e+02,   6.77279392e+02,   6.71579426e+02,\n",
       "         6.69875239e+02,   6.71274344e+02,   6.73458834e+02,\n",
       "         6.81814198e+02,   6.73119204e+02,   6.73972268e+02,\n",
       "         6.81939608e+02,   6.84329510e+02,   6.82109054e+02,\n",
       "         6.85160361e+02,   6.90135428e+02,   6.82586178e+02,\n",
       "         6.87683962e+02,   6.82229220e+02,   6.92681719e+02,\n",
       "         6.86926254e+02,   6.95083401e+02,   6.89310308e+02,\n",
       "         7.00340058e+02,   6.98841993e+02,   6.88430405e+02,\n",
       "         6.90632857e+02,   6.95428135e+02,   6.99182932e+02,\n",
       "         6.98324197e+02,   7.01766314e+02,   7.08447975e+02,\n",
       "         6.96415827e+02,   7.03196147e+02,   7.02701659e+02,\n",
       "         6.99588901e+02,   7.01800473e+02,   7.08299633e+02,\n",
       "         7.02197873e+02,   7.09684074e+02,   7.08953935e+02,\n",
       "         7.04211710e+02,   7.11444723e+02,   7.16070160e+02,\n",
       "         7.15352135e+02,   7.12301515e+02,   7.16595082e+02,\n",
       "         7.11805896e+02,   7.22329093e+02,   7.17804340e+02,\n",
       "         7.15370490e+02,   7.19600199e+02,   7.18401412e+02,\n",
       "         7.16703348e+02,   7.17581253e+02,   7.18064861e+02,\n",
       "         7.23815762e+02,   7.30247760e+02,   7.24767595e+02,\n",
       "         7.25358443e+02,   7.30680030e+02,   7.37265182e+02,\n",
       "         7.28038183e+02,   7.33519666e+02,   7.32433879e+02,\n",
       "         7.40435395e+02,   7.36904814e+02,   7.40670851e+02,\n",
       "         7.37474902e+02,   7.43390075e+02,   7.42609029e+02,\n",
       "         7.37827980e+02,   7.35951471e+02,   7.40497644e+02,\n",
       "         7.47450290e+02,   7.47377578e+02,   7.46722081e+02,\n",
       "         7.51172157e+02,   7.49265031e+02,   7.47267046e+02,\n",
       "         7.53164711e+02,   7.45523570e+02,   7.58125355e+02,\n",
       "         7.56160117e+02,   7.47854168e+02,   7.61638709e+02,\n",
       "         7.62566622e+02,   7.50087331e+02,   7.59655893e+02,\n",
       "         7.56750513e+02,   7.52996289e+02,   7.66318815e+02,\n",
       "         7.61748311e+02,   7.68279103e+02,   7.65409703e+02,\n",
       "         7.57939681e+02,   7.61847060e+02,   7.68008615e+02,\n",
       "         7.72636980e+02,   7.68202971e+02,   7.69581074e+02,\n",
       "         7.65920442e+02,   7.67553227e+02,   7.74995538e+02,\n",
       "         7.77145248e+02,   7.73548358e+02,   7.72017196e+02,\n",
       "         7.82998826e+02,   7.72883691e+02,   7.75507995e+02,\n",
       "         7.74155161e+02,   7.79643977e+02,   7.75241663e+02,\n",
       "         7.84813266e+02,   7.77905892e+02,   7.78437895e+02,\n",
       "         7.91430686e+02,   7.82259699e+02,   7.95224632e+02,\n",
       "         7.95995190e+02,   7.95443043e+02,   7.96664839e+02,\n",
       "         7.84617705e+02,   7.92945253e+02,   7.95707370e+02,\n",
       "         8.00152398e+02,   8.02552577e+02,   7.99548880e+02,\n",
       "         8.02639376e+02,   7.99960004e+02,   7.92650492e+02,\n",
       "         8.00080791e+02,   7.95395400e+02,   8.08216023e+02,\n",
       "         7.99929175e+02,   8.03975853e+02,   8.03214041e+02,\n",
       "         8.00954895e+02,   8.12566974e+02,   8.03942344e+02,\n",
       "         8.09704569e+02,   8.12588156e+02,   8.08250850e+02,\n",
       "         8.08560132e+02,   8.08436087e+02,   8.10934196e+02,\n",
       "         8.21462149e+02,   8.15989729e+02,   8.22565719e+02,\n",
       "         8.18520466e+02,   8.18838993e+02,   8.27933101e+02,\n",
       "         8.19630532e+02,   8.19635898e+02,   8.29646918e+02,\n",
       "         8.27396510e+02,   8.23632007e+02,   8.32072730e+02,\n",
       "         8.24507296e+02,   8.34259774e+02,   8.27158505e+02,\n",
       "         8.38355044e+02,   8.34050297e+02,   8.29090855e+02,\n",
       "         8.40285917e+02,   8.34570253e+02,   8.41988561e+02,\n",
       "         8.32868625e+02,   8.39116115e+02,   8.37744382e+02,\n",
       "         8.45664845e+02,   8.43721958e+02,   8.42796113e+02,\n",
       "         8.42481948e+02,   8.39333592e+02,   8.44162606e+02,\n",
       "         8.45945215e+02,   8.54166272e+02,   8.42114260e+02,\n",
       "         8.52860330e+02,   8.48201167e+02,   8.56660339e+02,\n",
       "         8.51075490e+02,   8.59648688e+02,   8.54347307e+02,\n",
       "         8.58399820e+02,   8.49631015e+02,   8.57174942e+02,\n",
       "         8.52942900e+02,   8.53768162e+02,   8.61158031e+02,\n",
       "         8.58457798e+02,   8.59822197e+02,   8.60117624e+02,\n",
       "         8.68904728e+02,   8.67431853e+02,   8.67025726e+02,\n",
       "         8.71409956e+02,   8.62458963e+02,   8.74076332e+02,\n",
       "         8.71431510e+02,   8.69338765e+02,   8.77209980e+02,\n",
       "         8.71679605e+02,   8.75379906e+02,   8.80018446e+02,\n",
       "         8.70904465e+02,   8.76837122e+02,   8.72080045e+02,\n",
       "         8.76175663e+02,   8.73606446e+02,   8.85287951e+02,\n",
       "         8.82220966e+02,   8.90042589e+02,   8.79351887e+02,\n",
       "         8.89623423e+02,   8.93100031e+02,   8.88404595e+02,\n",
       "         8.91623601e+02,   8.92045082e+02,   8.92690617e+02,\n",
       "         8.89472702e+02,   8.87727197e+02,   8.97719502e+02,\n",
       "         8.94610633e+02,   8.99155362e+02,   9.00120782e+02,\n",
       "         8.95306032e+02,   8.91055797e+02,   8.97360603e+02,\n",
       "         8.95329607e+02,   9.00932603e+02,   9.01602195e+02,\n",
       "         9.01914539e+02,   9.09276918e+02,   9.10746645e+02,\n",
       "         9.11560559e+02,   9.07533286e+02,   9.06590218e+02,\n",
       "         9.16289411e+02,   9.12042117e+02,   9.15116866e+02,\n",
       "         9.16912520e+02,   9.10555657e+02,   9.12418130e+02,\n",
       "         9.21667212e+02,   9.14605754e+02,   9.20500341e+02,\n",
       "         9.15841955e+02,   9.22382665e+02,   9.18537509e+02,\n",
       "         9.19616447e+02,   9.28330267e+02,   9.27817153e+02,\n",
       "         9.19434212e+02,   9.28299586e+02,   9.30192704e+02,\n",
       "         9.29591794e+02,   9.32336085e+02,   9.24345864e+02,\n",
       "         9.35961113e+02,   9.36590843e+02,   9.34206364e+02,\n",
       "         9.35962214e+02,   9.31721412e+02,   9.40102856e+02,\n",
       "         9.35880389e+02,   9.37378192e+02,   9.44303682e+02,\n",
       "         9.36456544e+02,   9.34504008e+02,   9.46414392e+02,\n",
       "         9.38304331e+02,   9.35761753e+02,   9.40026137e+02,\n",
       "         9.38698555e+02,   9.49069749e+02,   9.47669329e+02,\n",
       "         9.54859747e+02,   9.43831579e+02,   9.57064816e+02,\n",
       "         9.55195366e+02,   9.44561798e+02,   9.46151611e+02,\n",
       "         9.57676761e+02,   9.52170592e+02,   9.52645106e+02,\n",
       "         9.52408435e+02,   9.63124575e+02,   9.60783070e+02,\n",
       "         9.59734111e+02,   9.55576868e+02,   9.63322326e+02,\n",
       "         9.64538054e+02,   9.63833414e+02,   9.60333888e+02,\n",
       "         9.67858825e+02,   9.67958935e+02,   9.60922365e+02,\n",
       "         9.62852013e+02,   9.76067750e+02,   9.67585463e+02,\n",
       "         9.72234976e+02,   9.70837751e+02,   9.77658866e+02,\n",
       "         9.77549276e+02,   9.70418238e+02,   9.81755747e+02,\n",
       "         9.71837173e+02,   9.72819448e+02,   9.80355292e+02,\n",
       "         9.87492905e+02,   9.79432333e+02,   9.85633772e+02,\n",
       "         9.86787660e+02,   9.84917032e+02,   9.92961914e+02,\n",
       "         9.84181310e+02,   9.83562892e+02,   9.92666616e+02,\n",
       "         9.92804818e+02,   9.96029451e+02,   9.95469984e+02,\n",
       "         9.97215696e+02,   9.98024100e+02,   9.89683256e+02,\n",
       "         9.97710454e+02,   9.94244257e+02,   1.00483745e+03,\n",
       "         1.00116904e+03])"
      ]
     },
     "execution_count": 92,
     "metadata": {},
     "output_type": "execute_result"
    }
   ],
   "source": [
    "X0 = _generate_vector()\n",
    "X0"
   ]
  },
  {
   "cell_type": "code",
   "execution_count": 93,
   "metadata": {},
   "outputs": [
    {
     "data": {
      "text/plain": [
       "array([0, 1, 2, 3, 4, 5, 6, 7, 8, 9])"
      ]
     },
     "execution_count": 93,
     "metadata": {},
     "output_type": "execute_result"
    }
   ],
   "source": [
    "np.arange(10)"
   ]
  },
  {
   "cell_type": "code",
   "execution_count": 95,
   "metadata": {},
   "outputs": [
    {
     "data": {
      "text/plain": [
       "((2000L, 2L), (2000L,))"
      ]
     },
     "execution_count": 95,
     "metadata": {},
     "output_type": "execute_result"
    }
   ],
   "source": [
    "X1, Y1 = generate_dataset()\n",
    "X1.shape, Y1.shape"
   ]
  },
  {
   "cell_type": "code",
   "execution_count": 98,
   "metadata": {},
   "outputs": [
    {
     "data": {
      "text/plain": [
       "array([ 0.,  0.,  0.,  0.,  0.,  0.,  0.,  0.,  0.,  0.,  1.,  1.,  1.,\n",
       "        1.,  1.,  1.,  1.,  1.,  1.,  1.])"
      ]
     },
     "execution_count": 98,
     "metadata": {},
     "output_type": "execute_result"
    }
   ],
   "source": [
    "np.hstack((np.zeros(10), np.ones(10)))"
   ]
  },
  {
   "cell_type": "code",
   "execution_count": null,
   "metadata": {
    "collapsed": true
   },
   "outputs": [],
   "source": []
  }
 ],
 "metadata": {
  "kernelspec": {
   "display_name": "Python 2",
   "language": "python",
   "name": "python2"
  },
  "language_info": {
   "codemirror_mode": {
    "name": "ipython",
    "version": 2
   },
   "file_extension": ".py",
   "mimetype": "text/x-python",
   "name": "python",
   "nbconvert_exporter": "python",
   "pygments_lexer": "ipython2",
   "version": "2.7.13"
  }
 },
 "nbformat": 4,
 "nbformat_minor": 2
}
